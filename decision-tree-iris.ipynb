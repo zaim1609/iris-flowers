{
 "cells": [
  {
   "cell_type": "code",
   "execution_count": 1,
   "id": "f5e8bfe8",
   "metadata": {
    "_cell_guid": "b1076dfc-b9ad-4769-8c92-a6c4dae69d19",
    "_uuid": "8f2839f25d086af736a60e9eeb907d3b93b6e0e5",
    "execution": {
     "iopub.execute_input": "2021-07-13T13:33:07.125228Z",
     "iopub.status.busy": "2021-07-13T13:33:07.124045Z",
     "iopub.status.idle": "2021-07-13T13:33:07.142332Z",
     "shell.execute_reply": "2021-07-13T13:33:07.142855Z",
     "shell.execute_reply.started": "2021-07-13T13:10:02.133741Z"
    },
    "papermill": {
     "duration": 0.030593,
     "end_time": "2021-07-13T13:33:07.143117",
     "exception": false,
     "start_time": "2021-07-13T13:33:07.112524",
     "status": "completed"
    },
    "tags": []
   },
   "outputs": [
    {
     "name": "stdout",
     "output_type": "stream",
     "text": [
      "/kaggle/input/iris/Iris.csv\n",
      "/kaggle/input/iris/database.sqlite\n"
     ]
    }
   ],
   "source": [
    "# This Python 3 environment comes with many helpful analytics libraries installed\n",
    "# It is defined by the kaggle/python Docker image: https://github.com/kaggle/docker-python\n",
    "# For example, here's several helpful packages to load\n",
    "\n",
    "import numpy as np # linear algebra\n",
    "import pandas as pd # data processing, CSV file I/O (e.g. pd.read_csv)\n",
    "\n",
    "# Input data files are available in the read-only \"../input/\" directory\n",
    "# For example, running this (by clicking run or pressing Shift+Enter) will list all files under the input directory\n",
    "\n",
    "import os\n",
    "for dirname, _, filenames in os.walk('/kaggle/input'):\n",
    "    for filename in filenames:\n",
    "        print(os.path.join(dirname, filename))\n",
    "\n",
    "# You can write up to 20GB to the current directory (/kaggle/working/) that gets preserved as output when you create a version using \"Save & Run All\" \n",
    "# You can also write temporary files to /kaggle/temp/, but they won't be saved outside of the current session"
   ]
  },
  {
   "cell_type": "code",
   "execution_count": 2,
   "id": "0266b642",
   "metadata": {
    "execution": {
     "iopub.execute_input": "2021-07-13T13:33:07.161578Z",
     "iopub.status.busy": "2021-07-13T13:33:07.160681Z",
     "iopub.status.idle": "2021-07-13T13:33:08.181082Z",
     "shell.execute_reply": "2021-07-13T13:33:08.180556Z",
     "shell.execute_reply.started": "2021-07-13T13:10:49.150981Z"
    },
    "papermill": {
     "duration": 1.029668,
     "end_time": "2021-07-13T13:33:08.181214",
     "exception": false,
     "start_time": "2021-07-13T13:33:07.151546",
     "status": "completed"
    },
    "tags": []
   },
   "outputs": [
    {
     "data": {
      "text/html": [
       "<div>\n",
       "<style scoped>\n",
       "    .dataframe tbody tr th:only-of-type {\n",
       "        vertical-align: middle;\n",
       "    }\n",
       "\n",
       "    .dataframe tbody tr th {\n",
       "        vertical-align: top;\n",
       "    }\n",
       "\n",
       "    .dataframe thead th {\n",
       "        text-align: right;\n",
       "    }\n",
       "</style>\n",
       "<table border=\"1\" class=\"dataframe\">\n",
       "  <thead>\n",
       "    <tr style=\"text-align: right;\">\n",
       "      <th></th>\n",
       "      <th>Id</th>\n",
       "      <th>SepalLengthCm</th>\n",
       "      <th>SepalWidthCm</th>\n",
       "      <th>PetalLengthCm</th>\n",
       "      <th>PetalWidthCm</th>\n",
       "      <th>Species</th>\n",
       "    </tr>\n",
       "  </thead>\n",
       "  <tbody>\n",
       "    <tr>\n",
       "      <th>0</th>\n",
       "      <td>1</td>\n",
       "      <td>5.1</td>\n",
       "      <td>3.5</td>\n",
       "      <td>1.4</td>\n",
       "      <td>0.2</td>\n",
       "      <td>Iris-setosa</td>\n",
       "    </tr>\n",
       "    <tr>\n",
       "      <th>1</th>\n",
       "      <td>2</td>\n",
       "      <td>4.9</td>\n",
       "      <td>3.0</td>\n",
       "      <td>1.4</td>\n",
       "      <td>0.2</td>\n",
       "      <td>Iris-setosa</td>\n",
       "    </tr>\n",
       "    <tr>\n",
       "      <th>2</th>\n",
       "      <td>3</td>\n",
       "      <td>4.7</td>\n",
       "      <td>3.2</td>\n",
       "      <td>1.3</td>\n",
       "      <td>0.2</td>\n",
       "      <td>Iris-setosa</td>\n",
       "    </tr>\n",
       "    <tr>\n",
       "      <th>3</th>\n",
       "      <td>4</td>\n",
       "      <td>4.6</td>\n",
       "      <td>3.1</td>\n",
       "      <td>1.5</td>\n",
       "      <td>0.2</td>\n",
       "      <td>Iris-setosa</td>\n",
       "    </tr>\n",
       "    <tr>\n",
       "      <th>4</th>\n",
       "      <td>5</td>\n",
       "      <td>5.0</td>\n",
       "      <td>3.6</td>\n",
       "      <td>1.4</td>\n",
       "      <td>0.2</td>\n",
       "      <td>Iris-setosa</td>\n",
       "    </tr>\n",
       "  </tbody>\n",
       "</table>\n",
       "</div>"
      ],
      "text/plain": [
       "   Id  SepalLengthCm  SepalWidthCm  PetalLengthCm  PetalWidthCm      Species\n",
       "0   1            5.1           3.5            1.4           0.2  Iris-setosa\n",
       "1   2            4.9           3.0            1.4           0.2  Iris-setosa\n",
       "2   3            4.7           3.2            1.3           0.2  Iris-setosa\n",
       "3   4            4.6           3.1            1.5           0.2  Iris-setosa\n",
       "4   5            5.0           3.6            1.4           0.2  Iris-setosa"
      ]
     },
     "execution_count": 2,
     "metadata": {},
     "output_type": "execute_result"
    }
   ],
   "source": [
    "#import library\n",
    "from sklearn.datasets import load_iris\n",
    "\n",
    "df = pd.read_csv(\"../input/iris/Iris.csv\")\n",
    "\n",
    "df.head()"
   ]
  },
  {
   "cell_type": "code",
   "execution_count": 3,
   "id": "ecce90e1",
   "metadata": {
    "execution": {
     "iopub.execute_input": "2021-07-13T13:33:08.202846Z",
     "iopub.status.busy": "2021-07-13T13:33:08.202226Z",
     "iopub.status.idle": "2021-07-13T13:33:08.205135Z",
     "shell.execute_reply": "2021-07-13T13:33:08.204533Z",
     "shell.execute_reply.started": "2021-07-13T13:16:40.243891Z"
    },
    "papermill": {
     "duration": 0.016563,
     "end_time": "2021-07-13T13:33:08.205259",
     "exception": false,
     "start_time": "2021-07-13T13:33:08.188696",
     "status": "completed"
    },
    "tags": []
   },
   "outputs": [],
   "source": [
    "#menghilangkan kolom yang tidak penting\n",
    "df.drop(\"Id\",axis = 1,inplace = True)"
   ]
  },
  {
   "cell_type": "code",
   "execution_count": 4,
   "id": "aacc1626",
   "metadata": {
    "execution": {
     "iopub.execute_input": "2021-07-13T13:33:08.227568Z",
     "iopub.status.busy": "2021-07-13T13:33:08.226974Z",
     "iopub.status.idle": "2021-07-13T13:33:08.229617Z",
     "shell.execute_reply": "2021-07-13T13:33:08.229127Z",
     "shell.execute_reply.started": "2021-07-13T13:21:07.833531Z"
    },
    "papermill": {
     "duration": 0.016607,
     "end_time": "2021-07-13T13:33:08.229757",
     "exception": false,
     "start_time": "2021-07-13T13:33:08.213150",
     "status": "completed"
    },
    "tags": []
   },
   "outputs": [],
   "source": [
    "#memisahkan atribut label\n",
    "X = df[[\"SepalLengthCm\",\"SepalWidthCm\",\"PetalLengthCm\",\"PetalWidthCm\"]]\n",
    "y = df[['Species']]"
   ]
  },
  {
   "cell_type": "code",
   "execution_count": 5,
   "id": "beae733e",
   "metadata": {
    "execution": {
     "iopub.execute_input": "2021-07-13T13:33:08.249238Z",
     "iopub.status.busy": "2021-07-13T13:33:08.248505Z",
     "iopub.status.idle": "2021-07-13T13:33:08.487102Z",
     "shell.execute_reply": "2021-07-13T13:33:08.486525Z",
     "shell.execute_reply.started": "2021-07-13T13:25:54.886649Z"
    },
    "papermill": {
     "duration": 0.249701,
     "end_time": "2021-07-13T13:33:08.487257",
     "exception": false,
     "start_time": "2021-07-13T13:33:08.237556",
     "status": "completed"
    },
    "tags": []
   },
   "outputs": [],
   "source": [
    "#memulai desision tree\n",
    "from sklearn.tree import DecisionTreeClassifier"
   ]
  },
  {
   "cell_type": "code",
   "execution_count": 6,
   "id": "363dbd0e",
   "metadata": {
    "execution": {
     "iopub.execute_input": "2021-07-13T13:33:08.511901Z",
     "iopub.status.busy": "2021-07-13T13:33:08.511285Z",
     "iopub.status.idle": "2021-07-13T13:33:08.518294Z",
     "shell.execute_reply": "2021-07-13T13:33:08.517815Z",
     "shell.execute_reply.started": "2021-07-13T13:28:10.564881Z"
    },
    "papermill": {
     "duration": 0.023767,
     "end_time": "2021-07-13T13:33:08.518431",
     "exception": false,
     "start_time": "2021-07-13T13:33:08.494664",
     "status": "completed"
    },
    "tags": []
   },
   "outputs": [
    {
     "data": {
      "text/plain": [
       "DecisionTreeClassifier()"
      ]
     },
     "execution_count": 6,
     "metadata": {},
     "output_type": "execute_result"
    }
   ],
   "source": [
    "#membuat model decision tree\n",
    "\n",
    "tree_model = DecisionTreeClassifier()\n",
    "\n",
    "#mencoba model\n",
    "tree_model.fit(X,y)"
   ]
  },
  {
   "cell_type": "code",
   "execution_count": 7,
   "id": "d632413e",
   "metadata": {
    "execution": {
     "iopub.execute_input": "2021-07-13T13:33:08.539567Z",
     "iopub.status.busy": "2021-07-13T13:33:08.538960Z",
     "iopub.status.idle": "2021-07-13T13:33:08.543021Z",
     "shell.execute_reply": "2021-07-13T13:33:08.542557Z",
     "shell.execute_reply.started": "2021-07-13T13:32:24.422442Z"
    },
    "papermill": {
     "duration": 0.016979,
     "end_time": "2021-07-13T13:33:08.543148",
     "exception": false,
     "start_time": "2021-07-13T13:33:08.526169",
     "status": "completed"
    },
    "tags": []
   },
   "outputs": [
    {
     "data": {
      "text/plain": [
       "array(['Iris-setosa'], dtype=object)"
      ]
     },
     "execution_count": 7,
     "metadata": {},
     "output_type": "execute_result"
    }
   ],
   "source": [
    "#mencoba modelnya\n",
    "\n",
    "tree_model.predict([[5.1,3.4,1.4,0.2]])"
   ]
  }
 ],
 "metadata": {
  "kernelspec": {
   "display_name": "Python 3",
   "language": "python",
   "name": "python3"
  },
  "language_info": {
   "codemirror_mode": {
    "name": "ipython",
    "version": 3
   },
   "file_extension": ".py",
   "mimetype": "text/x-python",
   "name": "python",
   "nbconvert_exporter": "python",
   "pygments_lexer": "ipython3",
   "version": "3.7.10"
  },
  "papermill": {
   "default_parameters": {},
   "duration": 10.742252,
   "end_time": "2021-07-13T13:33:10.064493",
   "environment_variables": {},
   "exception": null,
   "input_path": "__notebook__.ipynb",
   "output_path": "__notebook__.ipynb",
   "parameters": {},
   "start_time": "2021-07-13T13:32:59.322241",
   "version": "2.3.3"
  }
 },
 "nbformat": 4,
 "nbformat_minor": 5
}
